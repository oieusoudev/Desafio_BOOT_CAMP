{
 "cells": [
  {
   "cell_type": "markdown",
   "metadata": {},
   "source": [
    "Importando UsersID da planilha"
   ]
  },
  {
   "cell_type": "code",
   "execution_count": null,
   "metadata": {},
   "outputs": [],
   "source": [
    "import pandas as pd\n",
    "\n",
    "df = pd.read_csv('SDW2023.csv')\n",
    "user_ids = df ['UserID'].tolist()\n",
    "print(user_ids)"
   ]
  },
  {
   "cell_type": "markdown",
   "metadata": {},
   "source": [
    "Obtendo dados da API santander."
   ]
  },
  {
   "cell_type": "code",
   "execution_count": null,
   "metadata": {},
   "outputs": [],
   "source": [
    "sdw2023_api_url = 'https://sdw-2023-prd.up.railway.app'"
   ]
  },
  {
   "cell_type": "code",
   "execution_count": null,
   "metadata": {},
   "outputs": [],
   "source": [
    "import requests\n",
    "import json\n",
    "\n",
    "def get_user(id):\n",
    "  response = requests.get(f'{sdw2023_api_url}/users/{id}')\n",
    "  return response.json() if response.status_code == 200 else None\n",
    "\n",
    "##Adicionei essa condicao para filtrar os clientes que podem ser investidores em potencial , que possuem mais de 0.0 na conta.\n",
    "##Caso o cliente esteja com a conta zerada ou negativa, ele nao receberá uma mensagem.\n",
    "filtered_users = [user for user in users if user.get('account').get('balance', 0) > 0.0 ]\n",
    "\n",
    "\n",
    "\n",
    "print(json.dumps(filtered_users, indent=2))     "
   ]
  },
  {
   "cell_type": "markdown",
   "metadata": {},
   "source": [
    "Interação com a Openai para gerar mensagens personalizadas."
   ]
  },
  {
   "cell_type": "code",
   "execution_count": null,
   "metadata": {},
   "outputs": [],
   "source": [
    "import openai\n",
    "openai_api_key = 'Minha chave API'\n",
    "\n",
    "openai.api_key = openai_api_key\n",
    "\n",
    "def generate_ai_news(user):\n",
    " completion = openai.ChatCompletion.create(\n",
    "   model=\"gpt-3.5-turbo-16k\",\n",
    "   messages=[\n",
    "    {\n",
    "        \"role\": \"system\", \"content\": \"Você é um especialista em marketing bancário.\"\n",
    "    },\n",
    "    {\n",
    "        \"role\": \"user\", \"content\": f\"Crie uma mensagem para {user[ 'name' ]} sobre a importancia de investir 20% do capital. (máximo de 100 caracteres)\"\n",
    "    }\n",
    "  ]\n",
    " )\n",
    " return completion.choices[0].message.content.strip('\\\"')\n",
    "\n",
    "#Enviar a mensagem personalizada para os clientes com potencial de investimento.\n",
    "for user in filtered_users:\n",
    "  news = generate_ai_news(user)\n",
    "  print(news)"
   ]
  }
 ],
 "metadata": {
  "language_info": {
   "name": "python"
  },
  "orig_nbformat": 4
 },
 "nbformat": 4,
 "nbformat_minor": 2
}
